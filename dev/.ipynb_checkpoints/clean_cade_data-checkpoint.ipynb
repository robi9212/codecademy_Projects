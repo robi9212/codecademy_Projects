{
 "cells": [
  {
   "cell_type": "code",
   "execution_count": 2,
   "id": "ace34968-c556-4f09-9e64-75e8a7497080",
   "metadata": {},
   "outputs": [],
   "source": [
    "import sqlite3\n",
    "import pandas as pd\n",
    "import numpy as np\n",
    "import json\n",
    "import datetime"
   ]
  },
  {
   "cell_type": "code",
   "execution_count": 6,
   "id": "774bc294-5d4f-40b7-85fe-ba05afb301b2",
   "metadata": {},
   "outputs": [
    {
     "ename": "OperationalError",
     "evalue": "unable to open database file",
     "output_type": "error",
     "traceback": [
      "\u001b[0;31m---------------------------------------------------------------------------\u001b[0m",
      "\u001b[0;31mOperationalError\u001b[0m                          Traceback (most recent call last)",
      "Cell \u001b[0;32mIn[6], line 2\u001b[0m\n\u001b[1;32m      1\u001b[0m \u001b[38;5;66;03m#Connecting to SQLite3 Database\u001b[39;00m\n\u001b[0;32m----> 2\u001b[0m con \u001b[38;5;241m=\u001b[39m sqlite3\u001b[38;5;241m.\u001b[39mconnect(\u001b[38;5;124m'\u001b[39m\u001b[38;5;124mdev/cademycode.db\u001b[39m\u001b[38;5;124m'\u001b[39m)\n\u001b[1;32m      3\u001b[0m cur \u001b[38;5;241m=\u001b[39m con\u001b[38;5;241m.\u001b[39mcursor()\n\u001b[1;32m      5\u001b[0m \u001b[38;5;66;03m#determing table names\u001b[39;00m\n",
      "\u001b[0;31mOperationalError\u001b[0m: unable to open database file"
     ]
    }
   ],
   "source": [
    "#Connecting to SQLite3 Database\n",
    "con = sqlite3.connect('dev/cademycode.db')\n",
    "cur = con.cursor()\n",
    "\n",
    "#determing table names\n",
    "table_list = [a for a in cur.execute(\"SELECT name FROM sqlite_master WHERE type = 'table'\")]\n",
    "print(table_list)"
   ]
  },
  {
   "cell_type": "code",
   "execution_count": 12,
   "id": "a5dab504-f6d6-470c-81a1-417a87b607a8",
   "metadata": {},
   "outputs": [
    {
     "ename": "DatabaseError",
     "evalue": "Execution failed on sql 'SELECT * FROM cademycode_students': no such table: cademycode_students",
     "output_type": "error",
     "traceback": [
      "\u001b[0;31m---------------------------------------------------------------------------\u001b[0m",
      "\u001b[0;31mOperationalError\u001b[0m                          Traceback (most recent call last)",
      "File \u001b[0;32m/opt/anaconda3/lib/python3.12/site-packages/pandas/io/sql.py:2674\u001b[0m, in \u001b[0;36mSQLiteDatabase.execute\u001b[0;34m(self, sql, params)\u001b[0m\n\u001b[1;32m   2673\u001b[0m \u001b[38;5;28;01mtry\u001b[39;00m:\n\u001b[0;32m-> 2674\u001b[0m     cur\u001b[38;5;241m.\u001b[39mexecute(sql, \u001b[38;5;241m*\u001b[39margs)\n\u001b[1;32m   2675\u001b[0m     \u001b[38;5;28;01mreturn\u001b[39;00m cur\n",
      "\u001b[0;31mOperationalError\u001b[0m: no such table: cademycode_students",
      "\nThe above exception was the direct cause of the following exception:\n",
      "\u001b[0;31mDatabaseError\u001b[0m                             Traceback (most recent call last)",
      "Cell \u001b[0;32mIn[12], line 2\u001b[0m\n\u001b[1;32m      1\u001b[0m \u001b[38;5;66;03m#reading tables as dataframes\u001b[39;00m\n\u001b[0;32m----> 2\u001b[0m cade_students \u001b[38;5;241m=\u001b[39m pd\u001b[38;5;241m.\u001b[39mread_sql_query(\u001b[38;5;124m'\u001b[39m\u001b[38;5;124mSELECT * FROM cademycode_students\u001b[39m\u001b[38;5;124m'\u001b[39m, con)\n\u001b[1;32m      3\u001b[0m cade_courses \u001b[38;5;241m=\u001b[39m pd\u001b[38;5;241m.\u001b[39mread_sql_query(\u001b[38;5;124m'\u001b[39m\u001b[38;5;124mSELECT * FROM cademycode_courses\u001b[39m\u001b[38;5;124m'\u001b[39m, con)\n\u001b[1;32m      4\u001b[0m cade_student_jobs \u001b[38;5;241m=\u001b[39m pd\u001b[38;5;241m.\u001b[39mread_sql_query(\u001b[38;5;124m'\u001b[39m\u001b[38;5;124mSELECT * FROM cademycode_student_jobs\u001b[39m\u001b[38;5;124m'\u001b[39m, con)\n",
      "File \u001b[0;32m/opt/anaconda3/lib/python3.12/site-packages/pandas/io/sql.py:526\u001b[0m, in \u001b[0;36mread_sql_query\u001b[0;34m(sql, con, index_col, coerce_float, params, parse_dates, chunksize, dtype, dtype_backend)\u001b[0m\n\u001b[1;32m    523\u001b[0m \u001b[38;5;28;01massert\u001b[39;00m dtype_backend \u001b[38;5;129;01mis\u001b[39;00m \u001b[38;5;129;01mnot\u001b[39;00m lib\u001b[38;5;241m.\u001b[39mno_default\n\u001b[1;32m    525\u001b[0m \u001b[38;5;28;01mwith\u001b[39;00m pandasSQL_builder(con) \u001b[38;5;28;01mas\u001b[39;00m pandas_sql:\n\u001b[0;32m--> 526\u001b[0m     \u001b[38;5;28;01mreturn\u001b[39;00m pandas_sql\u001b[38;5;241m.\u001b[39mread_query(\n\u001b[1;32m    527\u001b[0m         sql,\n\u001b[1;32m    528\u001b[0m         index_col\u001b[38;5;241m=\u001b[39mindex_col,\n\u001b[1;32m    529\u001b[0m         params\u001b[38;5;241m=\u001b[39mparams,\n\u001b[1;32m    530\u001b[0m         coerce_float\u001b[38;5;241m=\u001b[39mcoerce_float,\n\u001b[1;32m    531\u001b[0m         parse_dates\u001b[38;5;241m=\u001b[39mparse_dates,\n\u001b[1;32m    532\u001b[0m         chunksize\u001b[38;5;241m=\u001b[39mchunksize,\n\u001b[1;32m    533\u001b[0m         dtype\u001b[38;5;241m=\u001b[39mdtype,\n\u001b[1;32m    534\u001b[0m         dtype_backend\u001b[38;5;241m=\u001b[39mdtype_backend,\n\u001b[1;32m    535\u001b[0m     )\n",
      "File \u001b[0;32m/opt/anaconda3/lib/python3.12/site-packages/pandas/io/sql.py:2738\u001b[0m, in \u001b[0;36mSQLiteDatabase.read_query\u001b[0;34m(self, sql, index_col, coerce_float, parse_dates, params, chunksize, dtype, dtype_backend)\u001b[0m\n\u001b[1;32m   2727\u001b[0m \u001b[38;5;28;01mdef\u001b[39;00m \u001b[38;5;21mread_query\u001b[39m(\n\u001b[1;32m   2728\u001b[0m     \u001b[38;5;28mself\u001b[39m,\n\u001b[1;32m   2729\u001b[0m     sql,\n\u001b[0;32m   (...)\u001b[0m\n\u001b[1;32m   2736\u001b[0m     dtype_backend: DtypeBackend \u001b[38;5;241m|\u001b[39m Literal[\u001b[38;5;124m\"\u001b[39m\u001b[38;5;124mnumpy\u001b[39m\u001b[38;5;124m\"\u001b[39m] \u001b[38;5;241m=\u001b[39m \u001b[38;5;124m\"\u001b[39m\u001b[38;5;124mnumpy\u001b[39m\u001b[38;5;124m\"\u001b[39m,\n\u001b[1;32m   2737\u001b[0m ) \u001b[38;5;241m-\u001b[39m\u001b[38;5;241m>\u001b[39m DataFrame \u001b[38;5;241m|\u001b[39m Iterator[DataFrame]:\n\u001b[0;32m-> 2738\u001b[0m     cursor \u001b[38;5;241m=\u001b[39m \u001b[38;5;28mself\u001b[39m\u001b[38;5;241m.\u001b[39mexecute(sql, params)\n\u001b[1;32m   2739\u001b[0m     columns \u001b[38;5;241m=\u001b[39m [col_desc[\u001b[38;5;241m0\u001b[39m] \u001b[38;5;28;01mfor\u001b[39;00m col_desc \u001b[38;5;129;01min\u001b[39;00m cursor\u001b[38;5;241m.\u001b[39mdescription]\n\u001b[1;32m   2741\u001b[0m     \u001b[38;5;28;01mif\u001b[39;00m chunksize \u001b[38;5;129;01mis\u001b[39;00m \u001b[38;5;129;01mnot\u001b[39;00m \u001b[38;5;28;01mNone\u001b[39;00m:\n",
      "File \u001b[0;32m/opt/anaconda3/lib/python3.12/site-packages/pandas/io/sql.py:2686\u001b[0m, in \u001b[0;36mSQLiteDatabase.execute\u001b[0;34m(self, sql, params)\u001b[0m\n\u001b[1;32m   2683\u001b[0m     \u001b[38;5;28;01mraise\u001b[39;00m ex \u001b[38;5;28;01mfrom\u001b[39;00m \u001b[38;5;21;01minner_exc\u001b[39;00m\n\u001b[1;32m   2685\u001b[0m ex \u001b[38;5;241m=\u001b[39m DatabaseError(\u001b[38;5;124mf\u001b[39m\u001b[38;5;124m\"\u001b[39m\u001b[38;5;124mExecution failed on sql \u001b[39m\u001b[38;5;124m'\u001b[39m\u001b[38;5;132;01m{\u001b[39;00msql\u001b[38;5;132;01m}\u001b[39;00m\u001b[38;5;124m'\u001b[39m\u001b[38;5;124m: \u001b[39m\u001b[38;5;132;01m{\u001b[39;00mexc\u001b[38;5;132;01m}\u001b[39;00m\u001b[38;5;124m\"\u001b[39m)\n\u001b[0;32m-> 2686\u001b[0m \u001b[38;5;28;01mraise\u001b[39;00m ex \u001b[38;5;28;01mfrom\u001b[39;00m \u001b[38;5;21;01mexc\u001b[39;00m\n",
      "\u001b[0;31mDatabaseError\u001b[0m: Execution failed on sql 'SELECT * FROM cademycode_students': no such table: cademycode_students"
     ]
    }
   ],
   "source": [
    "#reading tables as dataframes\n",
    "cade_students = pd.read_sql_query('SELECT * FROM cademycode_students', con)\n",
    "cade_courses = pd.read_sql_query('SELECT * FROM cademycode_courses', con)\n",
    "cade_student_jobs = pd.read_sql_query('SELECT * FROM cademycode_student_jobs', con)"
   ]
  },
  {
   "cell_type": "code",
   "execution_count": null,
   "id": "388c7dda-9699-4b82-a225-8847e5b3e756",
   "metadata": {},
   "outputs": [],
   "source": [
    "print('cade_students', len(cade_students))\n",
    "print('cade_courses', len(cade_students))\n",
    "print('cade_student_jobs', len(cade_students))"
   ]
  },
  {
   "cell_type": "code",
   "execution_count": null,
   "id": "30fa23d4-e574-4b06-82e1-a4d3a776ae2d",
   "metadata": {},
   "outputs": [],
   "source": [
    "#working with student table\n",
    "cade_students.head(5)"
   ]
  },
  {
   "cell_type": "code",
   "execution_count": null,
   "id": "a1bbaa58-58a6-4cde-9e04-2ab5d45d856e",
   "metadata": {},
   "outputs": [],
   "source": [
    "#examining columns and checking for any null values\n",
    "cade_students.info()\n",
    "#contact info is a dictionary will need to explode into seperate columns\n",
    "#each row has a UUID whcih means one student can only be one row\n",
    "#none of the numerical columns are coming in as floats or integers\n",
    "#missing data in job_id, num_course_taken, current_career path_id and time_spent_hours"
   ]
  },
  {
   "cell_type": "code",
   "execution_count": null,
   "id": "7dbec631-839e-4177-a584-1903a8f9fc4e",
   "metadata": {},
   "outputs": [],
   "source": [
    "def extract_contact_info(contact_info):\n",
    "    try:\n",
    "        info = json.loads(contact_info.replace(\"'\", \"'\"))\n",
    "        return pd.Series([info.get('mailing_address'), info.get('email')])\n",
    "    except json.JSONDecodeError:\n",
    "        return pd.Series([None, None])"
   ]
  },
  {
   "cell_type": "code",
   "execution_count": null,
   "id": "17def18b-b063-4c07-80ae-654f8f86f041",
   "metadata": {},
   "outputs": [],
   "source": [
    "cade_students[['mailing_address', 'email']] = cade_students['contact_info'].apply(extract_contact_info)"
   ]
  },
  {
   "cell_type": "code",
   "execution_count": null,
   "id": "05eaeeda-cd91-44b6-85b0-1eb38e347b33",
   "metadata": {},
   "outputs": [],
   "source": [
    "cade_students.drop(columns=['contact_info'], inplace=True)"
   ]
  },
  {
   "cell_type": "code",
   "execution_count": null,
   "id": "bd5f0f94-b36d-4978-bd6b-c9cfef99ee24",
   "metadata": {},
   "outputs": [],
   "source": [
    "cade_students.head(10)"
   ]
  },
  {
   "cell_type": "code",
   "execution_count": null,
   "id": "69705361-afa8-4abe-9104-4ffeb621afdd",
   "metadata": {},
   "outputs": [],
   "source": [
    "#splitting mailing_address to address, city and state\n",
    "split_mailing_address = cade_students.mailing_address.str.split(',', expand=True)\n",
    "split_mailing_address.columns = ['address', 'city', 'state', 'zip_code']\n",
    "cade_students = pd.concat([cade_students.drop('mailing_address', axis=1), split_mailing_address], axis=1)"
   ]
  },
  {
   "cell_type": "code",
   "execution_count": null,
   "id": "6508ae9f-0f1f-4961-bda9-72e301d0e3fa",
   "metadata": {},
   "outputs": [],
   "source": [
    "#converting datatypes for dob, job_id, num_course_taken, current_career_path, time_spent_hrs\n",
    "cade_students['job_id'] = cade_students['job_id'].astype(float)\n",
    "cade_students['num_course_taken'] = cade_students['num_course_taken'].astype(float)\n",
    "cade_students['current_career_path_id'] = cade_students['current_career_path_id'].astype(float)\n",
    "cade_students['time_spent_hrs'] = cade_students['time_spent_hrs'].astype(float)\n",
    "\n",
    "#checking if changes are correct\n",
    "cade_students.info()"
   ]
  },
  {
   "cell_type": "code",
   "execution_count": null,
   "id": "1e62d69a-9ffd-4bd4-ab53-4365805b2571",
   "metadata": {},
   "outputs": [],
   "source": [
    "#handling missing data for num_course_take \n",
    "missing_courses_taken = cade_students[cade_students[['num_course_taken']].isnull().any(axis=1)]\n",
    "display(missing_courses_taken)"
   ]
  },
  {
   "cell_type": "code",
   "execution_count": null,
   "id": "48699d25-76f0-42b7-8f47-ed68ecaa9501",
   "metadata": {},
   "outputs": [],
   "source": [
    "#will store the missing data in a seperate table for future use\n",
    "missing_data = pd.DataFrame()\n",
    "missing_data = pd.concat([missing_data, missing_courses_taken])\n",
    "cade_students = cade_students.dropna(subset=['num_course_taken'])"
   ]
  },
  {
   "cell_type": "code",
   "execution_count": null,
   "id": "ff3ce867-0057-4229-916d-26c9ecb399c1",
   "metadata": {},
   "outputs": [],
   "source": [
    "cade_students.info()"
   ]
  },
  {
   "cell_type": "code",
   "execution_count": null,
   "id": "4b919495-a52c-46da-93ef-a8e6b91d78a2",
   "metadata": {},
   "outputs": [],
   "source": [
    "missing_job = cade_students[cade_students[['job_id']].isnull().any(axis=1)]\n",
    "display(missing_job)"
   ]
  },
  {
   "cell_type": "code",
   "execution_count": null,
   "id": "91e1fefd-d46d-4e6f-9b08-d08d7206e3a0",
   "metadata": {},
   "outputs": [],
   "source": [
    "missing_data = pd.concat([missing_data, missing_job])\n",
    "cade_students = cade_students.dropna(subset=['job_id'])"
   ]
  },
  {
   "cell_type": "code",
   "execution_count": null,
   "id": "ad82b162-9ff9-4959-bde9-28466dd8da94",
   "metadata": {},
   "outputs": [],
   "source": [
    "#current_career_path missing data\n",
    "missing_career = cade_students[cade_students[['current_career_path_id']].isnull().any(axis=1)]\n",
    "display(missing_career)"
   ]
  },
  {
   "cell_type": "code",
   "execution_count": null,
   "id": "df4e1091-f88c-4096-a356-aec81edf5432",
   "metadata": {},
   "outputs": [],
   "source": [
    "missing_career.info()"
   ]
  },
  {
   "cell_type": "code",
   "execution_count": null,
   "id": "051cd001-ce17-46d8-988a-f2fbed0615ef",
   "metadata": {},
   "outputs": [],
   "source": [
    "#creating new id to incicate no career and set its time spent to zero\n",
    "cade_students['current_career_path_id'] = np.where(\n",
    "    cade_students['current_career_path_id'].isnull(), 0, cade_students['current_career_path_id'])\n",
    "cade_students['time_spent_hrs'] = np.where(cade_students['time_spent_hrs'].isnull(), 0, cade_students['time_spent_hrs'])"
   ]
  },
  {
   "cell_type": "code",
   "execution_count": null,
   "id": "129e8fff-d95a-4283-9c59-dbbe7d3ceace",
   "metadata": {},
   "outputs": [],
   "source": [
    "cade_students.info()"
   ]
  },
  {
   "cell_type": "code",
   "execution_count": null,
   "id": "069e078c-3230-4977-a175-03b405069c1c",
   "metadata": {},
   "outputs": [],
   "source": [
    "#removing duplicate rows from cade_student_jobs\n",
    "cade_student_jobs.head(15)\n",
    "cade_student_jobs.drop_duplicates()"
   ]
  },
  {
   "cell_type": "code",
   "execution_count": null,
   "id": "1f91d32e-29fa-4f2c-9d29-4f7ac88f3b9c",
   "metadata": {},
   "outputs": [],
   "source": [
    "cade_courses.head(10)"
   ]
  },
  {
   "cell_type": "code",
   "execution_count": null,
   "id": "f315a0d7-773c-40db-8835-7e40b8ac7a3b",
   "metadata": {},
   "outputs": [],
   "source": [
    "cade_student_jobs.value_counts()"
   ]
  },
  {
   "cell_type": "code",
   "execution_count": null,
   "id": "e5856957-0ffa-44c0-a466-f0a9fef155fb",
   "metadata": {},
   "outputs": [],
   "source": [
    "cade_courses.value_counts()"
   ]
  },
  {
   "cell_type": "code",
   "execution_count": null,
   "id": "772b2800",
   "metadata": {},
   "outputs": [],
   "source": [
    "#adding row to courses for students that havent decided to not have null values\n",
    "undecided = {'career_path_id': 0,\n",
    "             'career_path_name': 'undecided',\n",
    "             'hours_to_complete':0}\n",
    "cade_courses.loc[len(cade_courses)] = undecided\n"
   ]
  },
  {
   "cell_type": "code",
   "execution_count": null,
   "id": "12e053ef",
   "metadata": {},
   "outputs": [],
   "source": [
    "cade_courses.head(11)\n"
   ]
  },
  {
   "cell_type": "code",
   "execution_count": null,
   "id": "fe1cb4d3-2661-4a81-84cb-33b106104d2a",
   "metadata": {},
   "outputs": [],
   "source": [
    "# #filling in null values for job_id, num_course_taken\n",
    "cade_students['job_id'] = cade_students['job_id'].fillna(0)\n",
    "cade_students['num_course_taken'] = cade_students['num_course_taken'].fillna(0)\n",
    "\n",
    "# #filling in current_career_path_id and time_spent_hrs with median value\n",
    "cade_students['current_career_path_id'] = cade_students['current_career_path_id'].fillna(cade_students['current_career_path_id'].median())\n",
    "cade_students['time_spent_hrs'] = cade_students['time_spent_hrs'].fillna(cade_students['time_spent_hrs'].median())"
   ]
  },
  {
   "cell_type": "code",
   "execution_count": null,
   "id": "14b81b0a-1e43-4c4c-ac2e-8abf18decaf7",
   "metadata": {},
   "outputs": [],
   "source": [
    "#inspecting null values after filling\n",
    "cade_students.isnull().sum()"
   ]
  },
  {
   "cell_type": "code",
   "execution_count": null,
   "id": "ce9ec8fe-1e55-43eb-bddc-3dd9bf76fff0",
   "metadata": {},
   "outputs": [],
   "source": [
    "# #joining tables\n",
    "merge_clean_cade = pd.merge(cade_students, cade_student_jobs, how='left', left_on='job_id', right_on='job_id')\n",
    "cleaned_cade = pd.merge(merge_clean_cade, cade_courses, how='left', left_on='current_career_path_id', right_on='career_path_id')\n"
   ]
  },
  {
   "cell_type": "code",
   "execution_count": null,
   "id": "41df5a6c-df89-4f23-806f-535d9194f7a0",
   "metadata": {},
   "outputs": [],
   "source": [
    "# #making sure all columns were merged and there there is no missing\n",
    "cleaned_cade.info()\n",
    "# con.close()"
   ]
  },
  {
   "cell_type": "code",
   "execution_count": null,
   "id": "914885f4-429f-4edd-b106-51ed16526713",
   "metadata": {},
   "outputs": [],
   "source": [
    "# creating the output CSV with cleaned data\n",
    "sqlite_con = sqlite3.connect('cleaned_cade.db')\n",
    "cleaned_cade.to_sql('cade_concat', sqlite_con, if_exists='replace' , index=False)"
   ]
  },
  {
   "cell_type": "code",
   "execution_count": null,
   "id": "e2b09e8f-df20-4cb6-ad6c-89ce36c4026d",
   "metadata": {},
   "outputs": [],
   "source": [
    "cade_data = pd.read_sql_query('SELECT * FROM cade_concat', sqlite_con)"
   ]
  },
  {
   "cell_type": "code",
   "execution_count": null,
   "id": "eb821a3e-e7bb-4000-a5cb-211f1b2c3726",
   "metadata": {},
   "outputs": [],
   "source": [
    "cade_data.info()"
   ]
  },
  {
   "cell_type": "code",
   "execution_count": null,
   "id": "c408a2aa-ac93-43c1-a619-9501b9a863aa",
   "metadata": {},
   "outputs": [],
   "source": [
    "missing_data.to_sql('missing_info', sqlite_con, if_exists='replace', index=False)"
   ]
  },
  {
   "cell_type": "code",
   "execution_count": null,
   "id": "8e5606b6-c976-4d32-9376-0ccc4784ae51",
   "metadata": {},
   "outputs": [],
   "source": [
    "missing_data = pd.read_sql_query('SELECT * FROM missing_info', sqlite_con)"
   ]
  },
  {
   "cell_type": "code",
   "execution_count": null,
   "id": "5e60cfb8-1184-49ff-884c-275931ebe9c7",
   "metadata": {},
   "outputs": [],
   "source": [
    "# sqlite_con.close()"
   ]
  },
  {
   "cell_type": "code",
   "execution_count": null,
   "id": "51be7975-4eb9-4a09-8c9d-b71daac6c29a",
   "metadata": {},
   "outputs": [],
   "source": [
    "cade_data.to_csv('cleaned_cade.csv')"
   ]
  }
 ],
 "metadata": {
  "kernelspec": {
   "display_name": "Python 3 (ipykernel)",
   "language": "python",
   "name": "python3"
  },
  "language_info": {
   "codemirror_mode": {
    "name": "ipython",
    "version": 3
   },
   "file_extension": ".py",
   "mimetype": "text/x-python",
   "name": "python",
   "nbconvert_exporter": "python",
   "pygments_lexer": "ipython3",
   "version": "3.12.4"
  }
 },
 "nbformat": 4,
 "nbformat_minor": 5
}
